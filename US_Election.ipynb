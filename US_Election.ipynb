import pygame
import sys
from pygame.locals import *
import threading
import numpy

class buttons(object):
	def __init__(self,tip,pos,lenth):
		self.tip=tip
		self.pos=pos
		self.lenth=lenth
	def draw(self,screen,mouse_pos):
		front_rect=pygame.Rect(self.pos[0],self.pos[1],self.lenth,50)
		back_rect=pygame.Rect(self.pos[0]+8,self.pos[1]+8,self.lenth,50)
		font=pygame.font.Font(None,40)
		if self.if_focused(mouse_pos):
			color1=(0,200,200)
			color2=(255,255,255)
		else:
			color1=(0,100,100)
			color2=(200,200,200)
		tip=font.render(self.tip,True,color2)
		pygame.draw.rect(screen,(0,50,50),back_rect)
		pygame.draw.rect(screen,color1,front_rect)
		screen.blit(tip,(self.pos[0]+25,self.pos[1]+12))
	def if_focused(self,mouse_pos):
		if self.pos[0]<mouse_pos[0]<self.pos[0]+self.lenth and self.pos[1]<mouse_pos[1]<self.pos[1]+50:
			return True
		else:
			return False

block_list=numpy.array([[[[0 for a in range(3)] for b in range(3)] for c in range(3)] for d in range(3)])
state_captured=numpy.array([[0 for a in range(3)] for b in range(3)])
next_state=(-1,-1)
block_color=(((100,100,100),(180,180,180)),((100,100,0),(180,180,0)),((0,100,100),(0,180,180)))
player=0
estimate_array=numpy.array([[1,0,0,1,0,0,1,0],[1,0,0,0,1,0,0,0],[1,0,0,0,0,1,0,1],[0,1,0,1,0,0,0,0],[0,1,0,0,1,0,1,1],[0,1,0,0,0,1,0,0],[0,0,1,1,0,0,0,1],[0,0,1,0,1,0,0,0],[0,0,1,0,0,1,1,0]])
state_captured=[[0 for i in range(3)] for j in range(3)]

def main():
	pygame.init()
	screen=pygame.display.set_mode((40*3**2,40*3**2),0,0)
	clock=pygame.time.Clock()
	pygame.display.set_caption('US ELECTION')
	while True:
		i=game_start(screen,clock)
		running_game(screen,clock,i)
		game_finished(screen,clock)

def game_start(screen,clock):
	button_list=[buttons('1 st',(50,50),115),buttons('2 nd',(50,150),115)]
	mouse_pos=(-1,-1)
	while True:
		for event in pygame.event.get():
			if event.type==pygame.QUIT:
				terminate()
			elif event.type==KEYDOWN:
				if event.key==K_ESCAPE:
					terminate()
			elif event.type==MOUSEMOTION:
				mouse_pos=pygame.mouse.get_pos(mouse_pos)
			elif event.type==MOUSEBUTTONDOWN:
				for i in range(2):
					if button_list[i].if_focused(mouse_pos):
						return i
		screen.fill((50,50,50))
		for i in range(2):
			button_list[i].draw(screen,mouse_pos)
		pygame.display.update()
		clock.tick(30)

def running_game(screen,clock,i):
	global player
	if i==0:
		player=1
	else:
		player=-1
	threading.Thread(target=AI_move,args=(clock,)).start()
	mouse_pos=(-1,-1)
	while True:
		for event in pygame.event.get():
			if event.type==pygame.QUIT:
				terminate()
			elif event.type==KEYDOWN:
				if event.key==K_ESCAPE:
					terminate()
			elif event.type==MOUSEMOTION:
				mouse_pos=pygame.mouse.get_pos(mouse_pos)
			elif event.type==MOUSEBUTTONDOWN:
				if player==1:
					pos=find_mouse_pos(mouse_pos)
					click(pos)
		draw_blocks(screen,mouse_pos)
		pygame.display.update()
		clock.tick(30)

def click(pos):
	global next_state
	global player
	if next_state==(-1,-1) or (pos[0],pos[1])==next_state:
		if block_list[pos[0]][pos[1]][pos[2]][pos[3]]==0:
			block_list[pos[0]][pos[1]][pos[2]][pos[3]]=1
			if 3 in numpy.dot(block_list[pos[0]][pos[1]].flatten(),estimate_array):
				state_captured[pos[0]][pos[1]]=1
			next_state=redefine_nextstate((pos[2],pos[3]),block_list)
			player=-1

def AI_move(clock):
	global player
	global next_state
	while True:
		if player==-1:
			result=AI_find_min(0,block_list,next_state)
			print(result)
			block_list[next_state[0]][next_state[1]][result[0][0]][result[0][1]]=-1
			if 3 in numpy.dot(block_list[next_state[0]][next_state[1]].flatten(),estimate_array):
				state_captured[next_state[0]][next_state[1]]=1
			next_state=redefine_nextstate((result[0][0],result[0][1]),block_list)
			player=1
		clock.tick(30)

def AI_find_min(n,previous_board,fake_next_state):
	fake_board=numpy.copy(previous_board)
	min_pos=(-1,-1)
	min_score=10000
	if fake_next_state!=(-1,-1):
		for i in range(3):
			for j in range(3):
				if fake_board[fake_next_state[0]][fake_next_state[1]][i][j]==0:
					fake_board[fake_next_state[0]][fake_next_state[1]][i][j]=2
					result=human_find_max(n,fake_board,redefine_nextstate((i,j),fake_board))
					fake_board[fake_next_state[0]][fake_next_state[1]][i][j]=0
					if result and result[1]<min_score:
						min_pos=(i,j)
						min_score=result[1]
	else:
		for a in range(3):
			for b in range(3):
				result=AI_find_min(n,fake_board,redefine_nextstate((a,b),fake_board))
				if result[1]<min_score:
					min_pos=result[0]
					min_score=result[1]
	if min_pos!=(-1,-1):
		return min_pos,min_score

def human_find_max(n,previous_board,fake_next_state):
	fake_board=numpy.copy(previous_board)
	if n!=0:
		max_pos=(-1,-1)
		max_score=-10000
		if fake_next_state!=(-1,-1):
			for i in range(3):
				for j in range(3):
					if fake_board[fake_next_state[0]][fake_next_state[1]][i][j]==0:
						fake_board[fake_next_state[0]][fake_next_state[1]][i][j]=1
						result=AI_find_min(n-1,fake_board,redefine_nextstate((i,j),fake_board))
						fake_board[fake_next_state[0]][fake_next_state[1]][i][j]=0
						if result and result[1]>max_score:
							max_pos=(i,j)
							max_score=result[1]
		else:
			for a in range(3):
				for b in range(3):
					result=human_find_max(n,fake_board,redefine_nextstate((a,b),fake_board))
					if result[1]>max_score:
						max_pos=(i,j)
						max_score=result[1]
		if max_pos!=(-1,-1):
			return max_pos,max_score
	else:
		max_score=-10000
		if fake_next_state!=(-1,-1):
			for i in range(3):
				for j in range(3):
					if fake_board[fake_next_state[0]][fake_next_state[1]][i][j]==0:
						fake_board[fake_next_state[0]][fake_next_state[1]][i][j]=1
						result=estimate(fake_board)
						fake_board[fake_next_state[0]][fake_next_state[1]][i][j]=0
						if result>max_score:
							max_score=result
		else:
			for a in range(3):
				for b in range(3):
					for c in range(3):
						for d in range(3):
							if fake_board[a][b][c][d]==0:
								fake_board[a][b][c][d]=1
								result=estimate(fake_board)
								fake_board[a][b][c][d]=0
								if result>max_score:
									max_score=result
		return (-1,-1),max_score

def estimate(board):
	score=numpy.array([[0 for i in range(3)] for j in range(3)])
	for i in range(3):
		for j in range(3):
			state=board[i][j].flatten()
			result=numpy.dot(state,estimate_array)
			for k in result:
				if abs(k)==3:
					score[i][j]=k*40
					break
				elif abs(k)==2:
					if abs(score[i][j])<50:
						score[i][j]+=k*25
					else:
						score[i][j]+=k//2*10
				elif abs(k)==1:
					score[i][j]+=k*10

	return sigmoid(score.flatten()).sum()

def sigmoid(x):
	return (1-numpy.cos((x/240+0.5)*numpy.pi))/2

def redefine_nextstate(next_state,board):
	if state_captured[next_state[0]][next_state[1]]==0:
		return next_state
	return (-1,-1)

def draw_blocks(screen,mouse_pos):
	for a in range(3):
		for b in range(3):
			if next_state==(-1,-1) or (a,b)==next_state and player==1:
				if state_captured[a][b]!=0:
					if state_captured[a][b]==1:
						pygame.draw.rect(screen,block_color[1][1],pygame.Rect(b*40*3+1,a*40*3+1,40*3-2,40*3-2))
					elif state_captured[a][b]==-1:
						pygame.draw.rect(screen,block_color[-1][1],pygame.Rect(b*40*3+1,a*40*3+1,40*3-2,40*3-2))
					else:
						pygame.draw.rect(screen,(180,180,180),pygame.Rect(b*40*3+1,a*40*3+1,40*3-2,40*3-2))
					continue
				for c in range(3):
					for d in range(3):
						color=block_list[a][b][c][d]
						pygame.draw.rect(screen,(50,50,50),pygame.Rect(b*40*3+d*40,a*40*3+c*40,40,40))
						pygame.draw.rect(screen,block_color[color][1],pygame.Rect(b*40*3+d*40+1,a*40*3+c*40+1,40-2,40-2))
				pos=find_mouse_pos(mouse_pos)
				if block_list[pos[0]][pos[1]][pos[2]][pos[3]]==0:
					pygame.draw.rect(screen,(250,250,250),pygame.Rect(pos[1]*40*3+pos[3]*40+1,pos[0]*40*3+pos[2]*40+1,40-2,40-2))
			else:
				for c in range(3):
					for d in range(3):
						if state_captured[a][b]!=0:
							if state_captured[a][b]==1:
								pygame.draw.rect(screen,block_color[1][0],pygame.Rect(b*40*3+1,a*40*3+1,40*3-2,40*3-2))
							elif state_captured[a][b]==-1:
								pygame.draw.rect(screen,block_color[-1][0],pygame.Rect(b*40*3+1,a*40*3+1,40*3-2,40*3-2))
							else:
								pygame.draw.rect(screen,(100,100,100),pygame.Rect(b*40*3+1,a*40*3+1,40*3-2,40*3-2))
							continue
						color=block_list[a][b][c][d]
						pygame.draw.rect(screen,(50,50,50),pygame.Rect(b*40*3+d*40,a*40*3+c*40,40,40))
						pygame.draw.rect(screen,block_color[color][0],pygame.Rect(b*40*3+d*40+1,a*40*3+c*40+1,40-2,40-2))

def find_mouse_pos(mouse_pos):
	a=mouse_pos[1]//(40*3)
	b=mouse_pos[0]//(40*3)
	c=mouse_pos[1]%(40*3)//40
	d=mouse_pos[0]%(40*3)//40
	return (a,b,c,d)

def terminate():
	pygame.quit()
	sys.exit()

main()
